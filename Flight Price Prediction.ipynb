{
 "cells": [
  {
   "cell_type": "markdown",
   "id": "39e32945",
   "metadata": {},
   "source": [
    "# Introduction"
   ]
  },
  {
   "cell_type": "markdown",
   "id": "5d7bd20e",
   "metadata": {},
   "source": [
    "### FEATURES \n",
    "The various features of the cleaned dataset are explained below:\n",
    "1) Airline: The name of the airline company is stored in the airline column. It is a categorical feature having 6 different airlines.\n",
    "\n",
    "2) Flight: Flight stores information regarding the plane's flight code. It is a categorical feature.\n",
    "\n",
    "3) Source City: City from which the flight takes off. It is a categorical feature having 6 unique cities.\n",
    "\n",
    "4) Departure Time: This is a derived categorical feature obtained created by grouping time periods into bins. It stores information about the departure time and have 6 unique time labels.\n",
    "\n",
    "5) Stops: A categorical feature with 3 distinct values that stores the number of stops between the source and destination cities.\n",
    "\n",
    "6) Arrival Time: This is a derived categorical feature created by grouping time intervals into bins. It has six distinct time labels and keeps information about the arrival time.\n",
    "\n",
    "7) Destination City: City where the flight will land. It is a categorical feature having 6 unique cities.\n",
    "\n",
    "8) Class: A categorical feature that contains information on seat class; it has two distinct values: Business and Economy.\n",
    "\n",
    "9) Duration: A continuous feature that displays the overall amount of time it takes to travel between cities in hours.\n",
    "\n",
    "10)Days Left: This is a derived characteristic that is calculated by subtracting the trip date by the booking date.\n",
    "\n",
    "11) Price: Target variable stores information of the ticket price."
   ]
  },
  {
   "cell_type": "markdown",
   "id": "e04ff4f8",
   "metadata": {},
   "source": [
    "<span style='color:MediumVioletRed'><font size=\"4\">Importing the necessary library </span><br></font>"
   ]
  },
  {
   "cell_type": "code",
   "execution_count": 1,
   "id": "6b9a11d1",
   "metadata": {},
   "outputs": [],
   "source": [
    "import pandas as pd\n",
    "import numpy as np\n",
    "import matplotlib.pyplot as plt\n",
    "import seaborn as sns\n",
    "%matplotlib inline\n",
    "from sklearn.metrics import mean_squared_error,r2_score, mean_absolute_error"
   ]
  },
  {
   "cell_type": "code",
   "execution_count": 2,
   "id": "166cf343",
   "metadata": {},
   "outputs": [],
   "source": [
    "flight = pd.read_csv(\"flight dataset.csv\") "
   ]
  },
  {
   "cell_type": "code",
   "execution_count": 3,
   "id": "5bae2763",
   "metadata": {},
   "outputs": [
    {
     "data": {
      "text/html": [
       "<div>\n",
       "<style scoped>\n",
       "    .dataframe tbody tr th:only-of-type {\n",
       "        vertical-align: middle;\n",
       "    }\n",
       "\n",
       "    .dataframe tbody tr th {\n",
       "        vertical-align: top;\n",
       "    }\n",
       "\n",
       "    .dataframe thead th {\n",
       "        text-align: right;\n",
       "    }\n",
       "</style>\n",
       "<table border=\"1\" class=\"dataframe\">\n",
       "  <thead>\n",
       "    <tr style=\"text-align: right;\">\n",
       "      <th></th>\n",
       "      <th>Unnamed: 0</th>\n",
       "      <th>airline</th>\n",
       "      <th>flight</th>\n",
       "      <th>source_city</th>\n",
       "      <th>departure_time</th>\n",
       "      <th>stops</th>\n",
       "      <th>arrival_time</th>\n",
       "      <th>destination_city</th>\n",
       "      <th>class</th>\n",
       "      <th>duration</th>\n",
       "      <th>days_left</th>\n",
       "      <th>price</th>\n",
       "    </tr>\n",
       "  </thead>\n",
       "  <tbody>\n",
       "    <tr>\n",
       "      <th>0</th>\n",
       "      <td>0</td>\n",
       "      <td>SpiceJet</td>\n",
       "      <td>SG-8709</td>\n",
       "      <td>Delhi</td>\n",
       "      <td>Evening</td>\n",
       "      <td>zero</td>\n",
       "      <td>Night</td>\n",
       "      <td>Mumbai</td>\n",
       "      <td>Economy</td>\n",
       "      <td>2.17</td>\n",
       "      <td>1</td>\n",
       "      <td>5953</td>\n",
       "    </tr>\n",
       "    <tr>\n",
       "      <th>1</th>\n",
       "      <td>1</td>\n",
       "      <td>SpiceJet</td>\n",
       "      <td>SG-8157</td>\n",
       "      <td>Delhi</td>\n",
       "      <td>Early_Morning</td>\n",
       "      <td>zero</td>\n",
       "      <td>Morning</td>\n",
       "      <td>Mumbai</td>\n",
       "      <td>Economy</td>\n",
       "      <td>2.33</td>\n",
       "      <td>1</td>\n",
       "      <td>5953</td>\n",
       "    </tr>\n",
       "    <tr>\n",
       "      <th>2</th>\n",
       "      <td>2</td>\n",
       "      <td>AirAsia</td>\n",
       "      <td>I5-764</td>\n",
       "      <td>Delhi</td>\n",
       "      <td>Early_Morning</td>\n",
       "      <td>zero</td>\n",
       "      <td>Early_Morning</td>\n",
       "      <td>Mumbai</td>\n",
       "      <td>Economy</td>\n",
       "      <td>2.17</td>\n",
       "      <td>1</td>\n",
       "      <td>5956</td>\n",
       "    </tr>\n",
       "    <tr>\n",
       "      <th>3</th>\n",
       "      <td>3</td>\n",
       "      <td>Vistara</td>\n",
       "      <td>UK-995</td>\n",
       "      <td>Delhi</td>\n",
       "      <td>Morning</td>\n",
       "      <td>zero</td>\n",
       "      <td>Afternoon</td>\n",
       "      <td>Mumbai</td>\n",
       "      <td>Economy</td>\n",
       "      <td>2.25</td>\n",
       "      <td>1</td>\n",
       "      <td>5955</td>\n",
       "    </tr>\n",
       "    <tr>\n",
       "      <th>4</th>\n",
       "      <td>4</td>\n",
       "      <td>Vistara</td>\n",
       "      <td>UK-963</td>\n",
       "      <td>Delhi</td>\n",
       "      <td>Morning</td>\n",
       "      <td>zero</td>\n",
       "      <td>Morning</td>\n",
       "      <td>Mumbai</td>\n",
       "      <td>Economy</td>\n",
       "      <td>2.33</td>\n",
       "      <td>1</td>\n",
       "      <td>5955</td>\n",
       "    </tr>\n",
       "  </tbody>\n",
       "</table>\n",
       "</div>"
      ],
      "text/plain": [
       "   Unnamed: 0   airline   flight source_city departure_time stops  \\\n",
       "0           0  SpiceJet  SG-8709       Delhi        Evening  zero   \n",
       "1           1  SpiceJet  SG-8157       Delhi  Early_Morning  zero   \n",
       "2           2   AirAsia   I5-764       Delhi  Early_Morning  zero   \n",
       "3           3   Vistara   UK-995       Delhi        Morning  zero   \n",
       "4           4   Vistara   UK-963       Delhi        Morning  zero   \n",
       "\n",
       "    arrival_time destination_city    class  duration  days_left  price  \n",
       "0          Night           Mumbai  Economy      2.17          1   5953  \n",
       "1        Morning           Mumbai  Economy      2.33          1   5953  \n",
       "2  Early_Morning           Mumbai  Economy      2.17          1   5956  \n",
       "3      Afternoon           Mumbai  Economy      2.25          1   5955  \n",
       "4        Morning           Mumbai  Economy      2.33          1   5955  "
      ]
     },
     "execution_count": 3,
     "metadata": {},
     "output_type": "execute_result"
    }
   ],
   "source": [
    "flight.head()"
   ]
  },
  {
   "cell_type": "markdown",
   "id": "ba6dc068",
   "metadata": {},
   "source": [
    "## Info about dataset"
   ]
  },
  {
   "cell_type": "code",
   "execution_count": 4,
   "id": "78aeefca",
   "metadata": {},
   "outputs": [
    {
     "name": "stdout",
     "output_type": "stream",
     "text": [
      "<class 'pandas.core.frame.DataFrame'>\n",
      "RangeIndex: 300153 entries, 0 to 300152\n",
      "Data columns (total 12 columns):\n",
      " #   Column            Non-Null Count   Dtype  \n",
      "---  ------            --------------   -----  \n",
      " 0   Unnamed: 0        300153 non-null  int64  \n",
      " 1   airline           300153 non-null  object \n",
      " 2   flight            300153 non-null  object \n",
      " 3   source_city       300153 non-null  object \n",
      " 4   departure_time    300153 non-null  object \n",
      " 5   stops             300153 non-null  object \n",
      " 6   arrival_time      300153 non-null  object \n",
      " 7   destination_city  300153 non-null  object \n",
      " 8   class             300153 non-null  object \n",
      " 9   duration          300153 non-null  float64\n",
      " 10  days_left         300153 non-null  int64  \n",
      " 11  price             300153 non-null  int64  \n",
      "dtypes: float64(1), int64(3), object(8)\n",
      "memory usage: 27.5+ MB\n"
     ]
    }
   ],
   "source": [
    "flight.info()"
   ]
  },
  {
   "cell_type": "markdown",
   "id": "38597403",
   "metadata": {},
   "source": [
    "***Dataset contains information about flight booking options from the website Easemytrip for flight travel between India's top 6 metro cities.***\n",
    "\n",
    ">***There are 300261 datapoints and 11 features in the cleaned dataset.***"
   ]
  },
  {
   "cell_type": "code",
   "execution_count": 5,
   "id": "356b9fdf",
   "metadata": {},
   "outputs": [],
   "source": [
    "# Dropping the useless column 'Unnamed: 0'\n",
    "\n",
    "flight=flight.drop('Unnamed: 0',axis=1)"
   ]
  },
  {
   "cell_type": "code",
   "execution_count": 6,
   "id": "833c9c84",
   "metadata": {},
   "outputs": [
    {
     "data": {
      "text/plain": [
       "airline             0\n",
       "flight              0\n",
       "source_city         0\n",
       "departure_time      0\n",
       "stops               0\n",
       "arrival_time        0\n",
       "destination_city    0\n",
       "class               0\n",
       "duration            0\n",
       "days_left           0\n",
       "price               0\n",
       "dtype: int64"
      ]
     },
     "execution_count": 6,
     "metadata": {},
     "output_type": "execute_result"
    }
   ],
   "source": [
    "flight.isnull().sum()         ##Finding the null values"
   ]
  },
  {
   "cell_type": "markdown",
   "id": "adc788f9",
   "metadata": {},
   "source": [
    "**Dataset has zero null values.**"
   ]
  },
  {
   "cell_type": "code",
   "execution_count": 7,
   "id": "aa8d8d06",
   "metadata": {},
   "outputs": [
    {
     "name": "stdout",
     "output_type": "stream",
     "text": [
      "Dataset has 0 duplicated values.\n"
     ]
    }
   ],
   "source": [
    "print(f\"Dataset has {flight.duplicated().sum()} duplicated values.\")            ##Finding the duplicate values"
   ]
  },
  {
   "cell_type": "code",
   "execution_count": 8,
   "id": "f8060ec8",
   "metadata": {},
   "outputs": [
    {
     "data": {
      "text/plain": [
       "Mumbai       59097\n",
       "Delhi        57360\n",
       "Bangalore    51068\n",
       "Kolkata      49534\n",
       "Hyderabad    42726\n",
       "Chennai      40368\n",
       "Name: destination_city, dtype: int64"
      ]
     },
     "execution_count": 8,
     "metadata": {},
     "output_type": "execute_result"
    }
   ],
   "source": [
    "flight['destination_city'].value_counts()"
   ]
  },
  {
   "cell_type": "code",
   "execution_count": 9,
   "id": "4f551c85",
   "metadata": {},
   "outputs": [
    {
     "data": {
      "text/plain": [
       "Economy     206666\n",
       "Business     93487\n",
       "Name: class, dtype: int64"
      ]
     },
     "execution_count": 9,
     "metadata": {},
     "output_type": "execute_result"
    }
   ],
   "source": [
    "flight['class'].value_counts()"
   ]
  },
  {
   "cell_type": "code",
   "execution_count": 10,
   "id": "1c9fb4c6",
   "metadata": {},
   "outputs": [
    {
     "data": {
      "text/html": [
       "<div>\n",
       "<style scoped>\n",
       "    .dataframe tbody tr th:only-of-type {\n",
       "        vertical-align: middle;\n",
       "    }\n",
       "\n",
       "    .dataframe tbody tr th {\n",
       "        vertical-align: top;\n",
       "    }\n",
       "\n",
       "    .dataframe thead th {\n",
       "        text-align: right;\n",
       "    }\n",
       "</style>\n",
       "<table border=\"1\" class=\"dataframe\">\n",
       "  <thead>\n",
       "    <tr style=\"text-align: right;\">\n",
       "      <th></th>\n",
       "      <th>duration</th>\n",
       "      <th>days_left</th>\n",
       "      <th>price</th>\n",
       "    </tr>\n",
       "  </thead>\n",
       "  <tbody>\n",
       "    <tr>\n",
       "      <th>count</th>\n",
       "      <td>300153.000000</td>\n",
       "      <td>300153.000000</td>\n",
       "      <td>300153.000000</td>\n",
       "    </tr>\n",
       "    <tr>\n",
       "      <th>mean</th>\n",
       "      <td>12.221021</td>\n",
       "      <td>26.004751</td>\n",
       "      <td>20889.660523</td>\n",
       "    </tr>\n",
       "    <tr>\n",
       "      <th>std</th>\n",
       "      <td>7.191997</td>\n",
       "      <td>13.561004</td>\n",
       "      <td>22697.767366</td>\n",
       "    </tr>\n",
       "    <tr>\n",
       "      <th>min</th>\n",
       "      <td>0.830000</td>\n",
       "      <td>1.000000</td>\n",
       "      <td>1105.000000</td>\n",
       "    </tr>\n",
       "    <tr>\n",
       "      <th>25%</th>\n",
       "      <td>6.830000</td>\n",
       "      <td>15.000000</td>\n",
       "      <td>4783.000000</td>\n",
       "    </tr>\n",
       "    <tr>\n",
       "      <th>50%</th>\n",
       "      <td>11.250000</td>\n",
       "      <td>26.000000</td>\n",
       "      <td>7425.000000</td>\n",
       "    </tr>\n",
       "    <tr>\n",
       "      <th>75%</th>\n",
       "      <td>16.170000</td>\n",
       "      <td>38.000000</td>\n",
       "      <td>42521.000000</td>\n",
       "    </tr>\n",
       "    <tr>\n",
       "      <th>max</th>\n",
       "      <td>49.830000</td>\n",
       "      <td>49.000000</td>\n",
       "      <td>123071.000000</td>\n",
       "    </tr>\n",
       "  </tbody>\n",
       "</table>\n",
       "</div>"
      ],
      "text/plain": [
       "            duration      days_left          price\n",
       "count  300153.000000  300153.000000  300153.000000\n",
       "mean       12.221021      26.004751   20889.660523\n",
       "std         7.191997      13.561004   22697.767366\n",
       "min         0.830000       1.000000    1105.000000\n",
       "25%         6.830000      15.000000    4783.000000\n",
       "50%        11.250000      26.000000    7425.000000\n",
       "75%        16.170000      38.000000   42521.000000\n",
       "max        49.830000      49.000000  123071.000000"
      ]
     },
     "execution_count": 10,
     "metadata": {},
     "output_type": "execute_result"
    }
   ],
   "source": [
    "#statistical description \n",
    "\n",
    "flight.describe()"
   ]
  },
  {
   "cell_type": "markdown",
   "id": "43fb807c",
   "metadata": {},
   "source": [
    "##### Finding the corr between numerical data type"
   ]
  },
  {
   "cell_type": "code",
   "execution_count": 11,
   "id": "f94fb297",
   "metadata": {},
   "outputs": [
    {
     "data": {
      "text/html": [
       "<div>\n",
       "<style scoped>\n",
       "    .dataframe tbody tr th:only-of-type {\n",
       "        vertical-align: middle;\n",
       "    }\n",
       "\n",
       "    .dataframe tbody tr th {\n",
       "        vertical-align: top;\n",
       "    }\n",
       "\n",
       "    .dataframe thead th {\n",
       "        text-align: right;\n",
       "    }\n",
       "</style>\n",
       "<table border=\"1\" class=\"dataframe\">\n",
       "  <thead>\n",
       "    <tr style=\"text-align: right;\">\n",
       "      <th></th>\n",
       "      <th>duration</th>\n",
       "      <th>days_left</th>\n",
       "      <th>price</th>\n",
       "    </tr>\n",
       "  </thead>\n",
       "  <tbody>\n",
       "    <tr>\n",
       "      <th>duration</th>\n",
       "      <td>1.000000</td>\n",
       "      <td>-0.039157</td>\n",
       "      <td>0.204222</td>\n",
       "    </tr>\n",
       "    <tr>\n",
       "      <th>days_left</th>\n",
       "      <td>-0.039157</td>\n",
       "      <td>1.000000</td>\n",
       "      <td>-0.091949</td>\n",
       "    </tr>\n",
       "    <tr>\n",
       "      <th>price</th>\n",
       "      <td>0.204222</td>\n",
       "      <td>-0.091949</td>\n",
       "      <td>1.000000</td>\n",
       "    </tr>\n",
       "  </tbody>\n",
       "</table>\n",
       "</div>"
      ],
      "text/plain": [
       "           duration  days_left     price\n",
       "duration   1.000000  -0.039157  0.204222\n",
       "days_left -0.039157   1.000000 -0.091949\n",
       "price      0.204222  -0.091949  1.000000"
      ]
     },
     "execution_count": 11,
     "metadata": {},
     "output_type": "execute_result"
    }
   ],
   "source": [
    "flight.corr()"
   ]
  },
  {
   "cell_type": "markdown",
   "id": "3d0abff5",
   "metadata": {},
   "source": [
    "### Gaining insights of the dataset"
   ]
  },
  {
   "cell_type": "code",
   "execution_count": 12,
   "id": "f305299c",
   "metadata": {},
   "outputs": [
    {
     "data": {
      "text/plain": [
       "Vistara      127859\n",
       "Air_India     80892\n",
       "Indigo        43120\n",
       "GO_FIRST      23173\n",
       "AirAsia       16098\n",
       "SpiceJet       9011\n",
       "Name: airline, dtype: int64"
      ]
     },
     "execution_count": 12,
     "metadata": {},
     "output_type": "execute_result"
    }
   ],
   "source": [
    "flight['airline'].value_counts()"
   ]
  },
  {
   "cell_type": "markdown",
   "id": "b7629b5c",
   "metadata": {},
   "source": [
    "><span style='color:MediumVioletRed'></span>\n",
    "<span style='color:MediumVioletRed'><font size=\"2\">Vistara becoming the most popular flight option. </span><br></font>"
   ]
  },
  {
   "cell_type": "code",
   "execution_count": 13,
   "id": "66c355f8",
   "metadata": {},
   "outputs": [
    {
     "name": "stderr",
     "output_type": "stream",
     "text": [
      "D:\\AnaConda\\lib\\site-packages\\seaborn\\_decorators.py:36: FutureWarning: Pass the following variable as a keyword arg: x. From version 0.12, the only valid positional argument will be `data`, and passing other arguments without an explicit keyword will result in an error or misinterpretation.\n",
      "  warnings.warn(\n"
     ]
    },
    {
     "data": {
      "image/png": "[encoded data removed]",
      "text/plain": [
       "<Figure size 720x432 with 1 Axes>"
      ]
     },
     "metadata": {
      "needs_background": "light"
     },
     "output_type": "display_data"
    }
   ],
   "source": [
    "plt.figure(figsize=(10,6))\n",
    "sns.countplot(flight['airline'].sort_index(ascending=False),palette='copper')\n",
    "plt.title('Count of Different Airlines',fontsize=15)\n",
    "plt.xlabel('Airline',fontsize=15)\n",
    "plt.ylabel('Count',fontsize=15)\n",
    "plt.show()"
   ]
  },
  {
   "cell_type": "code",
   "execution_count": 14,
   "id": "aae7598e",
   "metadata": {},
   "outputs": [
    {
     "data": {
      "text/plain": [
       "Delhi        61343\n",
       "Mumbai       60896\n",
       "Bangalore    52061\n",
       "Kolkata      46347\n",
       "Hyderabad    40806\n",
       "Chennai      38700\n",
       "Name: source_city, dtype: int64"
      ]
     },
     "execution_count": 14,
     "metadata": {},
     "output_type": "execute_result"
    }
   ],
   "source": [
    "flight['source_city'].value_counts()"
   ]
  },
  {
   "cell_type": "code",
   "execution_count": 15,
   "id": "90c1574c",
   "metadata": {},
   "outputs": [
    {
     "name": "stderr",
     "output_type": "stream",
     "text": [
      "D:\\AnaConda\\lib\\site-packages\\seaborn\\_decorators.py:36: FutureWarning: Pass the following variable as a keyword arg: x. From version 0.12, the only valid positional argument will be `data`, and passing other arguments without an explicit keyword will result in an error or misinterpretation.\n",
      "  warnings.warn(\n"
     ]
    },
    {
     "data": {
      "image/png": "[encoded data removed]",
      "text/plain": [
       "<Figure size 720x432 with 1 Axes>"
      ]
     },
     "metadata": {
      "needs_background": "light"
     },
     "output_type": "display_data"
    }
   ],
   "source": [
    "plt.figure(figsize=(10,6))\n",
    "sns.countplot(flight['source_city'].sort_index(ascending=False),palette='copper')\n",
    "# plt.title('Count o',fontsize=15)\n",
    "plt.xlabel('Cities',fontsize=15)\n",
    "plt.ylabel('Count',fontsize=15)\n",
    "plt.show()"
   ]
  },
  {
   "cell_type": "code",
   "execution_count": 16,
   "id": "ed6cdf82",
   "metadata": {},
   "outputs": [
    {
     "data": {
      "text/plain": [
       "one            250863\n",
       "zero            36004\n",
       "two_or_more     13286\n",
       "Name: stops, dtype: int64"
      ]
     },
     "execution_count": 16,
     "metadata": {},
     "output_type": "execute_result"
    }
   ],
   "source": [
    "flight['stops'].value_counts()"
   ]
  },
  {
   "cell_type": "code",
   "execution_count": 17,
   "id": "455e77d4",
   "metadata": {},
   "outputs": [
    {
     "data": {
      "image/png": "[encoded data removed]",
      "text/plain": [
       "<Figure size 720x432 with 1 Axes>"
      ]
     },
     "metadata": {
      "needs_background": "light"
     },
     "output_type": "display_data"
    }
   ],
   "source": [
    "plt.figure(figsize=(10,6))\n",
    "sns.barplot(x=flight['stops'], y=flight['price'] ,palette='copper')\n",
    "# plt.title('Count o',fontsize=15)\n",
    "plt.xlabel('Stops',fontsize=15)\n",
    "plt.ylabel('Price',fontsize=15)\n",
    "plt.show()"
   ]
  },
  {
   "cell_type": "code",
   "execution_count": 18,
   "id": "a6b6e8c5",
   "metadata": {},
   "outputs": [
    {
     "data": {
      "image/png": "[encoded data removed]",
      "text/plain": [
       "<Figure size 720x432 with 1 Axes>"
      ]
     },
     "metadata": {
      "needs_background": "light"
     },
     "output_type": "display_data"
    }
   ],
   "source": [
    "plt.figure(figsize=(10,6))\n",
    "sns.barplot(x=flight['source_city'], y=flight['price'] ,palette='copper')\n",
    "# plt.title('Count o',fontsize=15)\n",
    "plt.xlabel('Source City',fontsize=15)\n",
    "plt.ylabel('Price',fontsize=15)\n",
    "plt.show()"
   ]
  },
  {
   "cell_type": "code",
   "execution_count": 19,
   "id": "bffcff89",
   "metadata": {},
   "outputs": [
    {
     "data": {
      "image/png": "[encoded data removed]",
      "text/plain": [
       "<Figure size 720x576 with 1 Axes>"
      ]
     },
     "metadata": {
      "needs_background": "light"
     },
     "output_type": "display_data"
    }
   ],
   "source": [
    "plt.figure(figsize=(10,8))\n",
    "plot5 = sns.barplot(x=flight['destination_city'], y=flight['price'] ,palette='copper')\n",
    "# plt.title('Count o',fontsize=15)\n",
    "plt.xlabel('Destination_city',fontsize=15)\n",
    "plt.ylabel('Price',fontsize=15)\n",
    "\n",
    "for p in plot5.patches:\n",
    "   plot5.annotate('{:.1f}'.format(p.get_height()), (p.get_x()+0.25, p.get_height()+0.01),size=15, xytext=(0, 8),\n",
    "                   textcoords='offset points')\n",
    "\n",
    "plt.show()"
   ]
  },
  {
   "cell_type": "markdown",
   "id": "b29c5c6b",
   "metadata": {},
   "source": [
    "><span style='color:RebeccaPurple'><font size=\"2\"> Not Much difference of ticketing fares when comes to destination. </span><br></font>"
   ]
  },
  {
   "cell_type": "code",
   "execution_count": 20,
   "id": "14e5f507",
   "metadata": {},
   "outputs": [
    {
     "data": {
      "image/png": "[encoded data removed]",
      "text/plain": [
       "<Figure size 576x432 with 1 Axes>"
      ]
     },
     "metadata": {},
     "output_type": "display_data"
    }
   ],
   "source": [
    "plt.figure(figsize=(8,6))\n",
    "flight['class'].value_counts().plot(kind='pie',textprops={'color':'black'},autopct='%.2f',cmap='cool')\n",
    "plt.title('Classes of Different Airlines',fontsize=15)\n",
    "plt.legend(['Economy','Business'])\n",
    "plt.show()"
   ]
  },
  {
   "cell_type": "markdown",
   "id": "36bf6d0c",
   "metadata": {},
   "source": [
    "\n",
    "<span style='color:RebeccaPurple'><font size=\"2\"> Most preferred class is Economic Class </span><br></font>"
   ]
  },
  {
   "cell_type": "code",
   "execution_count": 21,
   "id": "6f116d0b",
   "metadata": {},
   "outputs": [
    {
     "data": {
      "image/png": "[encoded data removed]",
      "text/plain": [
       "<Figure size 1728x720 with 2 Axes>"
      ]
     },
     "metadata": {
      "needs_background": "light"
     },
     "output_type": "display_data"
    }
   ],
   "source": [
    "plt.figure(figsize=(24,10))\n",
    "plt.subplot(1,2,1)\n",
    "sns.barplot(x='departure_time',y='price',data=flight)\n",
    "plt.title('Departure Time Vs Ticket Price',fontsize=20)\n",
    "plt.xlabel('Departure Time',fontsize=15)\n",
    "plt.ylabel('Price',fontsize=15)\n",
    "plt.subplot(1,2,2)\n",
    "sns.barplot(x='arrival_time',y='price',data=flight,palette='hls')\n",
    "plt.title('Arrival Time Vs Ticket Price',fontsize=20)\n",
    "plt.xlabel('Arrival Time',fontsize=15)\n",
    "plt.ylabel('Price',fontsize=15)\n",
    "plt.show()"
   ]
  },
  {
   "cell_type": "markdown",
   "id": "bdf806c5",
   "metadata": {},
   "source": [
    " **Pricing Change On Departure Time and Arrival time**\n",
    "\n",
    "**Departure Time**\n",
    "\n",
    "><span style='color:DarkMagenta'> Pricing of Night flights is more</span><br>\n",
    "><span style='color:DarkMagenta'> Ticketing is almost equal Early_morning, Morning, Evening flights </span><br>\n",
    "><span style='color:DarkMagenta'> Late nights flights have lowest fares </span><br> \n",
    "___\n",
    "**Arrival Time**\n",
    "\n",
    "><span style='color:Teal'> Pricing of Evening flights is more</span><br>\n",
    "><span style='color:Teal'> Ticketing is almost equal Morning, Night flights </span><br>\n",
    "><span style='color:Teal'> Early_Morning, Late nights flights have lowest fares </span><br> "
   ]
  },
  {
   "cell_type": "markdown",
   "id": "1f06fd0a",
   "metadata": {},
   "source": [
    "## Data Preprocessing"
   ]
  },
  {
   "cell_type": "markdown",
   "id": "83e94445",
   "metadata": {},
   "source": [
    "**Creating a backup file**"
   ]
  },
  {
   "cell_type": "code",
   "execution_count": 22,
   "id": "c1d78791",
   "metadata": {},
   "outputs": [],
   "source": [
    "df_back=flight.copy()"
   ]
  },
  {
   "cell_type": "code",
   "execution_count": 23,
   "id": "dd608d12",
   "metadata": {},
   "outputs": [],
   "source": [
    "## Converting the categorical into numerical categorical by labelencoder\n",
    "from sklearn.preprocessing import LabelEncoder\n",
    "\n",
    "df_lab=LabelEncoder() ##Creating Variable for encoding"
   ]
  },
  {
   "cell_type": "code",
   "execution_count": 24,
   "id": "294f9f23",
   "metadata": {},
   "outputs": [
    {
     "data": {
      "text/html": [
       "<div>\n",
       "<style scoped>\n",
       "    .dataframe tbody tr th:only-of-type {\n",
       "        vertical-align: middle;\n",
       "    }\n",
       "\n",
       "    .dataframe tbody tr th {\n",
       "        vertical-align: top;\n",
       "    }\n",
       "\n",
       "    .dataframe thead th {\n",
       "        text-align: right;\n",
       "    }\n",
       "</style>\n",
       "<table border=\"1\" class=\"dataframe\">\n",
       "  <thead>\n",
       "    <tr style=\"text-align: right;\">\n",
       "      <th></th>\n",
       "      <th>airline</th>\n",
       "      <th>flight</th>\n",
       "      <th>source_city</th>\n",
       "      <th>departure_time</th>\n",
       "      <th>stops</th>\n",
       "      <th>arrival_time</th>\n",
       "      <th>destination_city</th>\n",
       "      <th>class</th>\n",
       "      <th>duration</th>\n",
       "      <th>days_left</th>\n",
       "      <th>price</th>\n",
       "    </tr>\n",
       "  </thead>\n",
       "  <tbody>\n",
       "    <tr>\n",
       "      <th>0</th>\n",
       "      <td>4</td>\n",
       "      <td>1408</td>\n",
       "      <td>2</td>\n",
       "      <td>2</td>\n",
       "      <td>2</td>\n",
       "      <td>5</td>\n",
       "      <td>5</td>\n",
       "      <td>1</td>\n",
       "      <td>2.17</td>\n",
       "      <td>1</td>\n",
       "      <td>5953</td>\n",
       "    </tr>\n",
       "    <tr>\n",
       "      <th>1</th>\n",
       "      <td>4</td>\n",
       "      <td>1387</td>\n",
       "      <td>2</td>\n",
       "      <td>1</td>\n",
       "      <td>2</td>\n",
       "      <td>4</td>\n",
       "      <td>5</td>\n",
       "      <td>1</td>\n",
       "      <td>2.33</td>\n",
       "      <td>1</td>\n",
       "      <td>5953</td>\n",
       "    </tr>\n",
       "    <tr>\n",
       "      <th>2</th>\n",
       "      <td>0</td>\n",
       "      <td>1213</td>\n",
       "      <td>2</td>\n",
       "      <td>1</td>\n",
       "      <td>2</td>\n",
       "      <td>1</td>\n",
       "      <td>5</td>\n",
       "      <td>1</td>\n",
       "      <td>2.17</td>\n",
       "      <td>1</td>\n",
       "      <td>5956</td>\n",
       "    </tr>\n",
       "    <tr>\n",
       "      <th>3</th>\n",
       "      <td>5</td>\n",
       "      <td>1559</td>\n",
       "      <td>2</td>\n",
       "      <td>4</td>\n",
       "      <td>2</td>\n",
       "      <td>0</td>\n",
       "      <td>5</td>\n",
       "      <td>1</td>\n",
       "      <td>2.25</td>\n",
       "      <td>1</td>\n",
       "      <td>5955</td>\n",
       "    </tr>\n",
       "    <tr>\n",
       "      <th>4</th>\n",
       "      <td>5</td>\n",
       "      <td>1549</td>\n",
       "      <td>2</td>\n",
       "      <td>4</td>\n",
       "      <td>2</td>\n",
       "      <td>4</td>\n",
       "      <td>5</td>\n",
       "      <td>1</td>\n",
       "      <td>2.33</td>\n",
       "      <td>1</td>\n",
       "      <td>5955</td>\n",
       "    </tr>\n",
       "  </tbody>\n",
       "</table>\n",
       "</div>"
      ],
      "text/plain": [
       "   airline  flight  source_city  departure_time  stops  arrival_time  \\\n",
       "0        4    1408            2               2      2             5   \n",
       "1        4    1387            2               1      2             4   \n",
       "2        0    1213            2               1      2             1   \n",
       "3        5    1559            2               4      2             0   \n",
       "4        5    1549            2               4      2             4   \n",
       "\n",
       "   destination_city  class  duration  days_left  price  \n",
       "0                 5      1      2.17          1   5953  \n",
       "1                 5      1      2.33          1   5953  \n",
       "2                 5      1      2.17          1   5956  \n",
       "3                 5      1      2.25          1   5955  \n",
       "4                 5      1      2.33          1   5955  "
      ]
     },
     "execution_count": 24,
     "metadata": {},
     "output_type": "execute_result"
    }
   ],
   "source": [
    "for col in flight.columns:\n",
    "    if flight[col].dtype=='object':\n",
    "        flight[col]=df_lab.fit_transform(flight[col])\n",
    "flight.head()"
   ]
  },
  {
   "cell_type": "code",
   "execution_count": 25,
   "id": "e3ac9880",
   "metadata": {},
   "outputs": [],
   "source": [
    "x=flight.drop(['price'],axis=1)\n",
    "y=flight['price'] "
   ]
  },
  {
   "cell_type": "code",
   "execution_count": 26,
   "id": "560ce4af",
   "metadata": {},
   "outputs": [
    {
     "name": "stdout",
     "output_type": "stream",
     "text": [
      "X Train: (201102, 10)\n",
      "X Test: (99051, 10)\n",
      "y Train: (201102,)\n",
      "y Test: (99051,)\n"
     ]
    }
   ],
   "source": [
    "##Splitting the test train data\n",
    "from sklearn.model_selection import train_test_split\n",
    "X_train, X_test, y_train, y_test = train_test_split(x, y, test_size=0.33, random_state=42)\n",
    "print('X Train:',X_train.shape)\n",
    "print('X Test:',X_test.shape)\n",
    "print('y Train:',y_train.shape)\n",
    "print('y Test:',y_test.shape)"
   ]
  },
  {
   "cell_type": "code",
   "execution_count": 27,
   "id": "26b9ef2b",
   "metadata": {},
   "outputs": [
    {
     "data": {
      "text/plain": [
       "(201102, 10)"
      ]
     },
     "execution_count": 27,
     "metadata": {},
     "output_type": "execute_result"
    }
   ],
   "source": [
    "# Scaling the values to convert the int values to Machine Languages\n",
    "from sklearn.preprocessing import MinMaxScaler\n",
    "mmScalar= MinMaxScaler()\n",
    "X_train=mmScalar.fit_transform(X_train)\n",
    "X_test=mmScalar.fit_transform(X_test)\n",
    "X_train.shape                         "
   ]
  },
  {
   "cell_type": "markdown",
   "id": "c62b66fb",
   "metadata": {},
   "source": [
    "### **Building the Regressor / RegressorModels**"
   ]
  },
  {
   "cell_type": "code",
   "execution_count": 28,
   "id": "31aaa816",
   "metadata": {},
   "outputs": [],
   "source": [
    "##Importing the models\n",
    "from sklearn.linear_model import LinearRegression ##Linear regression\n",
    "from sklearn.linear_model import Ridge\n",
    "from sklearn.linear_model import Lasso\n",
    "from sklearn.svm import SVR\n",
    "from sklearn.tree import DecisionTreeRegressor\n",
    "\n",
    "from sklearn.ensemble import RandomForestRegressor\n",
    "\n",
    "## Creating variables for different Models\n",
    "model_lr= LinearRegression()\n",
    "\n",
    "model_ri= Ridge()\n",
    "\n",
    "model_La= Lasso(alpha=1.0)\n",
    "\n",
    "model_svr= SVR()\n",
    "\n",
    "model_dtree= DecisionTreeRegressor()\n",
    "\n",
    "model_rf= RandomForestRegressor()"
   ]
  },
  {
   "cell_type": "code",
   "execution_count": 29,
   "id": "51acf642",
   "metadata": {},
   "outputs": [
    {
     "name": "stdout",
     "output_type": "stream",
     "text": [
      "---Linear Regressor---\n",
      "----------------------------------------------------------------------------------------------------\n",
      "---Ridge Regressor---\n",
      "----------------------------------------------------------------------------------------------------\n",
      "---Lasso Regressor---\n",
      "----------------------------------------------------------------------------------------------------\n",
      "---Support Vector Machine Regressor---\n",
      "----------------------------------------------------------------------------------------------------\n",
      "---Decision Tree Regressor---\n",
      "----------------------------------------------------------------------------------------------------\n",
      "---Random Forest Regressor---\n"
     ]
    },
    {
     "data": {
      "text/html": [
       "<style>#sk-container-id-1 {color: black;background-color: white;}#sk-container-id-1 pre{padding: 0;}#sk-container-id-1 div.sk-toggleable {background-color: white;}#sk-container-id-1 label.sk-toggleable__label {cursor: pointer;display: block;width: 100%;margin-bottom: 0;padding: 0.3em;box-sizing: border-box;text-align: center;}#sk-container-id-1 label.sk-toggleable__label-arrow:before {content: \"▸\";float: left;margin-right: 0.25em;color: #696969;}#sk-container-id-1 label.sk-toggleable__label-arrow:hover:before {color: black;}#sk-container-id-1 div.sk-estimator:hover label.sk-toggleable__label-arrow:before {color: black;}#sk-container-id-1 div.sk-toggleable__content {max-height: 0;max-width: 0;overflow: hidden;text-align: left;background-color: #f0f8ff;}#sk-container-id-1 div.sk-toggleable__content pre {margin: 0.2em;color: black;border-radius: 0.25em;background-color: #f0f8ff;}#sk-container-id-1 input.sk-toggleable__control:checked~div.sk-toggleable__content {max-height: 200px;max-width: 100%;overflow: auto;}#sk-container-id-1 input.sk-toggleable__control:checked~label.sk-toggleable__label-arrow:before {content: \"▾\";}#sk-container-id-1 div.sk-estimator input.sk-toggleable__control:checked~label.sk-toggleable__label {background-color: #d4ebff;}#sk-container-id-1 div.sk-label input.sk-toggleable__control:checked~label.sk-toggleable__label {background-color: #d4ebff;}#sk-container-id-1 input.sk-hidden--visually {border: 0;clip: rect(1px 1px 1px 1px);clip: rect(1px, 1px, 1px, 1px);height: 1px;margin: -1px;overflow: hidden;padding: 0;position: absolute;width: 1px;}#sk-container-id-1 div.sk-estimator {font-family: monospace;background-color: #f0f8ff;border: 1px dotted black;border-radius: 0.25em;box-sizing: border-box;margin-bottom: 0.5em;}#sk-container-id-1 div.sk-estimator:hover {background-color: #d4ebff;}#sk-container-id-1 div.sk-parallel-item::after {content: \"\";width: 100%;border-bottom: 1px solid gray;flex-grow: 1;}#sk-container-id-1 div.sk-label:hover label.sk-toggleable__label {background-color: #d4ebff;}#sk-container-id-1 div.sk-serial::before {content: \"\";position: absolute;border-left: 1px solid gray;box-sizing: border-box;top: 0;bottom: 0;left: 50%;z-index: 0;}#sk-container-id-1 div.sk-serial {display: flex;flex-direction: column;align-items: center;background-color: white;padding-right: 0.2em;padding-left: 0.2em;position: relative;}#sk-container-id-1 div.sk-item {position: relative;z-index: 1;}#sk-container-id-1 div.sk-parallel {display: flex;align-items: stretch;justify-content: center;background-color: white;position: relative;}#sk-container-id-1 div.sk-item::before, #sk-container-id-1 div.sk-parallel-item::before {content: \"\";position: absolute;border-left: 1px solid gray;box-sizing: border-box;top: 0;bottom: 0;left: 50%;z-index: -1;}#sk-container-id-1 div.sk-parallel-item {display: flex;flex-direction: column;z-index: 1;position: relative;background-color: white;}#sk-container-id-1 div.sk-parallel-item:first-child::after {align-self: flex-end;width: 50%;}#sk-container-id-1 div.sk-parallel-item:last-child::after {align-self: flex-start;width: 50%;}#sk-container-id-1 div.sk-parallel-item:only-child::after {width: 0;}#sk-container-id-1 div.sk-dashed-wrapped {border: 1px dashed gray;margin: 0 0.4em 0.5em 0.4em;box-sizing: border-box;padding-bottom: 0.4em;background-color: white;}#sk-container-id-1 div.sk-label label {font-family: monospace;font-weight: bold;display: inline-block;line-height: 1.2em;}#sk-container-id-1 div.sk-label-container {text-align: center;}#sk-container-id-1 div.sk-container {/* jupyter's `normalize.less` sets `[hidden] { display: none; }` but bootstrap.min.css set `[hidden] { display: none !important; }` so we also need the `!important` here to be able to override the default hidden behavior on the sphinx rendered scikit-learn.org. See: https://github.com/scikit-learn/scikit-learn/issues/21755 */display: inline-block !important;position: relative;}#sk-container-id-1 div.sk-text-repr-fallback {display: none;}</style><div id=\"sk-container-id-1\" class=\"sk-top-container\"><div class=\"sk-text-repr-fallback\"><pre>RandomForestRegressor()</pre><b>In a Jupyter environment, please rerun this cell to show the HTML representation or trust the notebook. <br />On GitHub, the HTML representation is unable to render, please try loading this page with nbviewer.org.</b></div><div class=\"sk-container\" hidden><div class=\"sk-item\"><div class=\"sk-estimator sk-toggleable\"><input class=\"sk-toggleable__control sk-hidden--visually\" id=\"sk-estimator-id-1\" type=\"checkbox\" checked><label for=\"sk-estimator-id-1\" class=\"sk-toggleable__label sk-toggleable__label-arrow\">RandomForestRegressor</label><div class=\"sk-toggleable__content\"><pre>RandomForestRegressor()</pre></div></div></div></div></div>"
      ],
      "text/plain": [
       "RandomForestRegressor()"
      ]
     },
     "execution_count": 29,
     "metadata": {},
     "output_type": "execute_result"
    }
   ],
   "source": [
    "##Linear Regression\n",
    "print('---Linear Regressor---')\n",
    "model_lr.fit(X_train, y_train)\n",
    "LinearRegression()\n",
    "print(50*'--')\n",
    "\n",
    "## Rigde Regressor\n",
    "print('---Ridge Regressor---')\n",
    "model_ri.fit(X_train, y_train)\n",
    "Ridge()\n",
    "print(50*'--')\n",
    "\n",
    "## Lasso Regressor\n",
    "print('---Lasso Regressor---')\n",
    "model_La.fit(X_train, y_train)\n",
    "Lasso()\n",
    "print(50*'--')\n",
    "\n",
    "## Support Vector Machine\n",
    "print('---Support Vector Machine Regressor---')\n",
    "model_svr.fit(X_train, y_train)\n",
    "SVR()\n",
    "print(50*'--')\n",
    "\n",
    "# Decision Tree Regressor\n",
    "print('---Decision Tree Regressor---')\n",
    "model_dtree.fit(X_train, y_train)\n",
    "DecisionTreeRegressor()\n",
    "print(50*'--')\n",
    "\n",
    "##Random forest Regressor\n",
    "print('---Random Forest Regressor---')\n",
    "model_rf.fit(X_train,y_train)\n",
    "RandomForestRegressor()"
   ]
  },
  {
   "cell_type": "markdown",
   "id": "b6501f55",
   "metadata": {},
   "source": [
    "**Predicting Test data**"
   ]
  },
  {
   "cell_type": "code",
   "execution_count": 30,
   "id": "e04722d8",
   "metadata": {},
   "outputs": [
    {
     "name": "stdout",
     "output_type": "stream",
     "text": [
      "----Linear Regressor----\n",
      "---Ridge Regressor---\n",
      "---Lasso Regressor---\n",
      "---Support vector Regressor---\n",
      "---Decision Tree Regressor---\n",
      "---Random Tree Regressor---\n"
     ]
    }
   ],
   "source": [
    "## Predicting Test data with different Regressor Models\n",
    "print('----Linear Regressor----')\n",
    "\n",
    "price_pred_lr=model_lr.predict(X_test)\n",
    "\n",
    "print('---Ridge Regressor---')\n",
    "\n",
    "price_pred_ri=model_ri.predict(X_test)\n",
    "\n",
    "print('---Lasso Regressor---')\n",
    "\n",
    "price_pred_La=model_La.predict(X_test)\n",
    "\n",
    "print('---Support vector Regressor---')\n",
    "\n",
    "price_pred_svr=model_svr.predict(X_test)\n",
    "\n",
    "print('---Decision Tree Regressor---')\n",
    "\n",
    "price_pred_dtree=model_dtree.predict(X_test)\n",
    "\n",
    "print('---Random Tree Regressor---')\n",
    "\n",
    "price_pred_rf=model_rf.predict(X_test)"
   ]
  },
  {
   "cell_type": "markdown",
   "id": "dfae6a8d",
   "metadata": {},
   "source": [
    "**Evaluating the results of models**"
   ]
  },
  {
   "cell_type": "code",
   "execution_count": 31,
   "id": "20ee4ab1",
   "metadata": {},
   "outputs": [
    {
     "name": "stdout",
     "output_type": "stream",
     "text": [
      "---Linear Regressor---\n",
      "R2 Score:  0.9049331960501108\n",
      "Mean Squared Error:  49047649.62429508\n",
      "Mean Absolute Error 4630.904132400213\n",
      "Root Mean Squared Error: 7003.402717557736\n",
      "Root_Mean_Squared_Log_Error_RMSLE: 8.854151412436147\n",
      "Adjusted R squared: 0.9049235972209559\n",
      "\n",
      "\n",
      "---Ridge Regressor---\n",
      "R2 Score:  0.9049332432733973\n",
      "Mean Squared Error:  49047625.26046756\n",
      "Mean Absolute Error 4630.924670894027\n",
      "Root Mean Squared Error: 7003.400978129665\n",
      "Root_Mean_Squared_Log_Error_RMSLE: 8.854151164067126\n",
      "Adjusted R squared: 0.9049236444490105\n",
      "\n",
      "\n",
      "---Lasso Regressor---\n",
      "R2 Score:  0.9049348929718497\n",
      "Mean Squared Error:  49046774.13443499\n",
      "Mean Absolute Error 4629.826797028502\n",
      "Root Mean Squared Error: 7003.3402126724495\n",
      "Root_Mean_Squared_Log_Error_RMSLE: 8.854142487465426\n",
      "Adjusted R squared: 0.9049252943140318\n",
      "\n",
      "\n",
      "---Decision Regressor---\n",
      "R2 Score:  0.9819088309275907\n",
      "Mean Squared Error:  9333745.1675049\n",
      "Mean Absolute Error 938.9209481310976\n",
      "Root Mean Squared Error: 3055.1178647484126\n",
      "Root_Mean_Squared_Log_Error_RMSLE: 8.024573451793849\n",
      "Adjusted R squared: 0.9819070042748169\n",
      "\n",
      "\n",
      "---SVR Regressor---\n",
      "R2 Score:  0.5446297135066709\n",
      "Mean Squared Error:  234938394.19501913\n",
      "Mean Absolute Error 9450.173542024779\n",
      "Root Mean Squared Error: 15327.700225246419\n",
      "Root_Mean_Squared_Log_Error_RMSLE: 9.637416942689438\n",
      "Adjusted R squared: 0.5445837350851752\n",
      "\n",
      "\n",
      "---Random Forest Regressor---\n",
      "R2 Score:  0.988892305191149\n",
      "Mean Squared Error:  5730773.524324012\n",
      "Mean Absolute Error 905.6259972415204\n",
      "Root Mean Squared Error: 2393.903407475751\n",
      "Root_Mean_Squared_Log_Error_RMSLE: 7.780680537549436\n",
      "Adjusted R squared: 0.9888911836549203\n"
     ]
    }
   ],
   "source": [
    "\n",
    "print('---Linear Regressor---')\n",
    "print(\"R2 Score: \",r2_score(y_test,price_pred_lr))\n",
    "print(\"Mean Squared Error: \",mean_squared_error(y_test, price_pred_lr))\n",
    "print('Mean Absolute Error', mean_absolute_error(y_test,price_pred_lr))\n",
    "print('Root Mean Squared Error:', np.sqrt(mean_squared_error(y_test, price_pred_lr)))\n",
    "print('Root_Mean_Squared_Log_Error_RMSLE:',np.log(np.sqrt(mean_squared_error(y_test, price_pred_lr))))\n",
    "print('Adjusted R squared:',1 - (1-r2_score(y_test, price_pred_lr))*(len(y_test)-1)/(len(y_test)-X_test.shape[1]-1))\n",
    "print('\\n')\n",
    "print('---Ridge Regressor---')\n",
    "print(\"R2 Score: \",r2_score(y_test,price_pred_ri))\n",
    "print(\"Mean Squared Error: \",mean_squared_error(y_test, price_pred_ri))\n",
    "print('Mean Absolute Error', mean_absolute_error(y_test,price_pred_ri))\n",
    "print('Root Mean Squared Error:', np.sqrt(mean_squared_error(y_test, price_pred_ri)))\n",
    "print('Root_Mean_Squared_Log_Error_RMSLE:',np.log(np.sqrt(mean_squared_error(y_test, price_pred_ri))))\n",
    "print('Adjusted R squared:',1 - (1-r2_score(y_test, price_pred_ri))*(len(y_test)-1)/(len(y_test)-X_test.shape[1]-1))\n",
    "print('\\n')\n",
    "\n",
    "print('---Lasso Regressor---')\n",
    "print(\"R2 Score: \",r2_score(y_test, price_pred_La))\n",
    "print(\"Mean Squared Error: \",mean_squared_error(y_test, price_pred_La))\n",
    "print('Mean Absolute Error', mean_absolute_error(y_test,price_pred_La))\n",
    "print('Root Mean Squared Error:', np.sqrt(mean_squared_error(y_test, price_pred_La)))\n",
    "print('Root_Mean_Squared_Log_Error_RMSLE:',np.log(np.sqrt(mean_squared_error(y_test, price_pred_La))))\n",
    "print('Adjusted R squared:',1 - (1-r2_score(y_test, price_pred_La))*(len(y_test)-1)/(len(y_test)-X_test.shape[1]-1))\n",
    "print('\\n')\n",
    "\n",
    "print('---Decision Regressor---')\n",
    "print(\"R2 Score: \",r2_score(y_test, price_pred_dtree))\n",
    "print(\"Mean Squared Error: \",mean_squared_error(y_test, price_pred_dtree))\n",
    "print('Mean Absolute Error', mean_absolute_error(y_test,price_pred_dtree))\n",
    "print('Root Mean Squared Error:', np.sqrt(mean_squared_error(y_test, price_pred_dtree)))\n",
    "print('Root_Mean_Squared_Log_Error_RMSLE:',np.log(np.sqrt(mean_squared_error(y_test, price_pred_dtree))))\n",
    "print('Adjusted R squared:',1 - (1-r2_score(y_test, price_pred_dtree))*(len(y_test)-1)/(len(y_test)-X_test.shape[1]-1))\n",
    "print('\\n')\n",
    "\n",
    "print('---SVR Regressor---')\n",
    "print(\"R2 Score: \",r2_score(y_test, price_pred_svr))\n",
    "print(\"Mean Squared Error: \",mean_squared_error(y_test, price_pred_svr))\n",
    "print('Mean Absolute Error', mean_absolute_error(y_test, price_pred_svr))\n",
    "print('Root Mean Squared Error:', np.sqrt(mean_squared_error(y_test, price_pred_svr)))\n",
    "print('Root_Mean_Squared_Log_Error_RMSLE:',np.log(np.sqrt(mean_squared_error(y_test, price_pred_svr))))\n",
    "print('Adjusted R squared:',1 - (1-r2_score(y_test, price_pred_svr))*(len(y_test)-1)/(len(y_test)-X_test.shape[1]-1))\n",
    "print('\\n')\n",
    "\n",
    "print('---Random Forest Regressor---')\n",
    "print(\"R2 Score: \",r2_score(y_test, price_pred_rf))\n",
    "print(\"Mean Squared Error: \",mean_squared_error(y_test, price_pred_rf))\n",
    "print('Mean Absolute Error', mean_absolute_error(y_test, price_pred_rf))\n",
    "print('Root Mean Squared Error:', np.sqrt(mean_squared_error(y_test, price_pred_rf)))\n",
    "print('Root_Mean_Squared_Log_Error_RMSLE:',np.log(np.sqrt(mean_squared_error(y_test, price_pred_rf))))\n",
    "print('Adjusted R squared:',1 - (1-r2_score(y_test, price_pred_rf))*(len(y_test)-1)/(len(y_test)-X_test.shape[1]-1))"
   ]
  },
  {
   "cell_type": "markdown",
   "id": "0c4a0d6a",
   "metadata": {},
   "source": [
    "**From the Above Results, The Top 3 Models by comparing Errors , Adj_R_Square and R2_Score values are**\n",
    "\n",
    ">**1. Random Forest Regressor 2. Decision tree Regressor**\n",
    "\n",
    "**Training the Data with Random Forest Regressor**"
   ]
  },
  {
   "cell_type": "code",
   "execution_count": 32,
   "id": "84868460",
   "metadata": {},
   "outputs": [],
   "source": [
    "##Training the model with\n",
    "# model_rf.fit(X_train,y_train)\n",
    "\n",
    "##Predicting the Test Data\n",
    "y_pred=model_rf.predict(X_test)"
   ]
  },
  {
   "cell_type": "code",
   "execution_count": 33,
   "id": "804f390e",
   "metadata": {},
   "outputs": [],
   "source": [
    "out=pd.DataFrame({'Price_actual':y_test,'Price_pred':y_pred})\n",
    "result=df_back.merge(out,left_index=True,right_index=True)"
   ]
  },
  {
   "cell_type": "code",
   "execution_count": 34,
   "id": "2ac43198",
   "metadata": {},
   "outputs": [
    {
     "data": {
      "text/html": [
       "<div>\n",
       "<style scoped>\n",
       "    .dataframe tbody tr th:only-of-type {\n",
       "        vertical-align: middle;\n",
       "    }\n",
       "\n",
       "    .dataframe tbody tr th {\n",
       "        vertical-align: top;\n",
       "    }\n",
       "\n",
       "    .dataframe thead th {\n",
       "        text-align: right;\n",
       "    }\n",
       "</style>\n",
       "<table border=\"1\" class=\"dataframe\">\n",
       "  <thead>\n",
       "    <tr style=\"text-align: right;\">\n",
       "      <th></th>\n",
       "      <th>airline</th>\n",
       "      <th>flight</th>\n",
       "      <th>source_city</th>\n",
       "      <th>departure_time</th>\n",
       "      <th>stops</th>\n",
       "      <th>arrival_time</th>\n",
       "      <th>destination_city</th>\n",
       "      <th>class</th>\n",
       "      <th>duration</th>\n",
       "      <th>days_left</th>\n",
       "      <th>price</th>\n",
       "      <th>Price_actual</th>\n",
       "      <th>Price_pred</th>\n",
       "    </tr>\n",
       "  </thead>\n",
       "  <tbody>\n",
       "    <tr>\n",
       "      <th>230053</th>\n",
       "      <td>Air_India</td>\n",
       "      <td>AI-806</td>\n",
       "      <td>Mumbai</td>\n",
       "      <td>Early_Morning</td>\n",
       "      <td>one</td>\n",
       "      <td>Evening</td>\n",
       "      <td>Bangalore</td>\n",
       "      <td>Business</td>\n",
       "      <td>8.25</td>\n",
       "      <td>2</td>\n",
       "      <td>65506</td>\n",
       "      <td>65506</td>\n",
       "      <td>60641.51</td>\n",
       "    </tr>\n",
       "    <tr>\n",
       "      <th>128984</th>\n",
       "      <td>Indigo</td>\n",
       "      <td>6E-725</td>\n",
       "      <td>Kolkata</td>\n",
       "      <td>Evening</td>\n",
       "      <td>one</td>\n",
       "      <td>Early_Morning</td>\n",
       "      <td>Mumbai</td>\n",
       "      <td>Economy</td>\n",
       "      <td>9.92</td>\n",
       "      <td>12</td>\n",
       "      <td>9251</td>\n",
       "      <td>9251</td>\n",
       "      <td>7939.86</td>\n",
       "    </tr>\n",
       "    <tr>\n",
       "      <th>192907</th>\n",
       "      <td>Indigo</td>\n",
       "      <td>6E-5347</td>\n",
       "      <td>Chennai</td>\n",
       "      <td>Night</td>\n",
       "      <td>zero</td>\n",
       "      <td>Late_Night</td>\n",
       "      <td>Mumbai</td>\n",
       "      <td>Economy</td>\n",
       "      <td>2.08</td>\n",
       "      <td>42</td>\n",
       "      <td>3000</td>\n",
       "      <td>3000</td>\n",
       "      <td>3000.00</td>\n",
       "    </tr>\n",
       "    <tr>\n",
       "      <th>292687</th>\n",
       "      <td>Vistara</td>\n",
       "      <td>UK-832</td>\n",
       "      <td>Chennai</td>\n",
       "      <td>Early_Morning</td>\n",
       "      <td>one</td>\n",
       "      <td>Night</td>\n",
       "      <td>Mumbai</td>\n",
       "      <td>Business</td>\n",
       "      <td>15.92</td>\n",
       "      <td>38</td>\n",
       "      <td>49553</td>\n",
       "      <td>49553</td>\n",
       "      <td>49871.08</td>\n",
       "    </tr>\n",
       "    <tr>\n",
       "      <th>34624</th>\n",
       "      <td>SpiceJet</td>\n",
       "      <td>SG-8946</td>\n",
       "      <td>Delhi</td>\n",
       "      <td>Morning</td>\n",
       "      <td>one</td>\n",
       "      <td>Afternoon</td>\n",
       "      <td>Hyderabad</td>\n",
       "      <td>Economy</td>\n",
       "      <td>26.33</td>\n",
       "      <td>44</td>\n",
       "      <td>8100</td>\n",
       "      <td>8100</td>\n",
       "      <td>8254.26</td>\n",
       "    </tr>\n",
       "    <tr>\n",
       "      <th>183342</th>\n",
       "      <td>SpiceJet</td>\n",
       "      <td>SG-4010</td>\n",
       "      <td>Chennai</td>\n",
       "      <td>Morning</td>\n",
       "      <td>one</td>\n",
       "      <td>Morning</td>\n",
       "      <td>Delhi</td>\n",
       "      <td>Economy</td>\n",
       "      <td>24.33</td>\n",
       "      <td>23</td>\n",
       "      <td>4048</td>\n",
       "      <td>4048</td>\n",
       "      <td>4048.00</td>\n",
       "    </tr>\n",
       "    <tr>\n",
       "      <th>252748</th>\n",
       "      <td>Vistara</td>\n",
       "      <td>UK-808</td>\n",
       "      <td>Bangalore</td>\n",
       "      <td>Early_Morning</td>\n",
       "      <td>one</td>\n",
       "      <td>Night</td>\n",
       "      <td>Mumbai</td>\n",
       "      <td>Business</td>\n",
       "      <td>14.00</td>\n",
       "      <td>48</td>\n",
       "      <td>74844</td>\n",
       "      <td>74844</td>\n",
       "      <td>74802.28</td>\n",
       "    </tr>\n",
       "    <tr>\n",
       "      <th>285897</th>\n",
       "      <td>Vistara</td>\n",
       "      <td>UK-870</td>\n",
       "      <td>Hyderabad</td>\n",
       "      <td>Night</td>\n",
       "      <td>one</td>\n",
       "      <td>Evening</td>\n",
       "      <td>Chennai</td>\n",
       "      <td>Business</td>\n",
       "      <td>19.75</td>\n",
       "      <td>14</td>\n",
       "      <td>51707</td>\n",
       "      <td>51707</td>\n",
       "      <td>55825.82</td>\n",
       "    </tr>\n",
       "    <tr>\n",
       "      <th>36724</th>\n",
       "      <td>Vistara</td>\n",
       "      <td>UK-953</td>\n",
       "      <td>Delhi</td>\n",
       "      <td>Night</td>\n",
       "      <td>one</td>\n",
       "      <td>Morning</td>\n",
       "      <td>Chennai</td>\n",
       "      <td>Economy</td>\n",
       "      <td>15.17</td>\n",
       "      <td>12</td>\n",
       "      <td>11520</td>\n",
       "      <td>11520</td>\n",
       "      <td>11563.22</td>\n",
       "    </tr>\n",
       "    <tr>\n",
       "      <th>216190</th>\n",
       "      <td>Air_India</td>\n",
       "      <td>AI-485</td>\n",
       "      <td>Delhi</td>\n",
       "      <td>Early_Morning</td>\n",
       "      <td>one</td>\n",
       "      <td>Morning</td>\n",
       "      <td>Kolkata</td>\n",
       "      <td>Business</td>\n",
       "      <td>29.17</td>\n",
       "      <td>7</td>\n",
       "      <td>48882</td>\n",
       "      <td>48882</td>\n",
       "      <td>48882.00</td>\n",
       "    </tr>\n",
       "  </tbody>\n",
       "</table>\n",
       "</div>"
      ],
      "text/plain": [
       "          airline   flight source_city departure_time stops   arrival_time  \\\n",
       "230053  Air_India   AI-806      Mumbai  Early_Morning   one        Evening   \n",
       "128984     Indigo   6E-725     Kolkata        Evening   one  Early_Morning   \n",
       "192907     Indigo  6E-5347     Chennai          Night  zero     Late_Night   \n",
       "292687    Vistara   UK-832     Chennai  Early_Morning   one          Night   \n",
       "34624    SpiceJet  SG-8946       Delhi        Morning   one      Afternoon   \n",
       "183342   SpiceJet  SG-4010     Chennai        Morning   one        Morning   \n",
       "252748    Vistara   UK-808   Bangalore  Early_Morning   one          Night   \n",
       "285897    Vistara   UK-870   Hyderabad          Night   one        Evening   \n",
       "36724     Vistara   UK-953       Delhi          Night   one        Morning   \n",
       "216190  Air_India   AI-485       Delhi  Early_Morning   one        Morning   \n",
       "\n",
       "       destination_city     class  duration  days_left  price  Price_actual  \\\n",
       "230053        Bangalore  Business      8.25          2  65506         65506   \n",
       "128984           Mumbai   Economy      9.92         12   9251          9251   \n",
       "192907           Mumbai   Economy      2.08         42   3000          3000   \n",
       "292687           Mumbai  Business     15.92         38  49553         49553   \n",
       "34624         Hyderabad   Economy     26.33         44   8100          8100   \n",
       "183342            Delhi   Economy     24.33         23   4048          4048   \n",
       "252748           Mumbai  Business     14.00         48  74844         74844   \n",
       "285897          Chennai  Business     19.75         14  51707         51707   \n",
       "36724           Chennai   Economy     15.17         12  11520         11520   \n",
       "216190          Kolkata  Business     29.17          7  48882         48882   \n",
       "\n",
       "        Price_pred  \n",
       "230053    60641.51  \n",
       "128984     7939.86  \n",
       "192907     3000.00  \n",
       "292687    49871.08  \n",
       "34624      8254.26  \n",
       "183342     4048.00  \n",
       "252748    74802.28  \n",
       "285897    55825.82  \n",
       "36724     11563.22  \n",
       "216190    48882.00  "
      ]
     },
     "execution_count": 34,
     "metadata": {},
     "output_type": "execute_result"
    }
   ],
   "source": [
    "result.sample(10)"
   ]
  },
  {
   "cell_type": "code",
   "execution_count": 35,
   "id": "a9b0b4fb",
   "metadata": {},
   "outputs": [
    {
     "data": {
      "image/png": "[encoded data removed]",
      "text/plain": [
       "<Figure size 1440x576 with 1 Axes>"
      ]
     },
     "metadata": {
      "needs_background": "light"
     },
     "output_type": "display_data"
    }
   ],
   "source": [
    "plt.figure(figsize=(20,8))\n",
    "sns.lineplot(data=result,x='days_left',y='Price_actual',color='red')\n",
    "sns.lineplot(data=result,x='days_left',y='Price_pred',color='#36454F')\n",
    "plt.title('Days Left For Departure Versus Actual Ticket Price and Predicted Ticket Price',fontsize=20)\n",
    "plt.legend(labels=['Price actual','Price predicted'],fontsize=19)\n",
    "plt.xlabel('Days Left for Departure',fontsize=15)\n",
    "plt.ylabel('Actual and Predicted Price',fontsize=15)\n",
    "plt.show()"
   ]
  },
  {
   "cell_type": "code",
   "execution_count": 36,
   "id": "e528a587",
   "metadata": {},
   "outputs": [
    {
     "data": {
      "image/png": "[encoded data removed]",
      "text/plain": [
       "<Figure size 720x360 with 1 Axes>"
      ]
     },
     "metadata": {
      "needs_background": "light"
     },
     "output_type": "display_data"
    }
   ],
   "source": [
    "plt.figure(figsize=(10,5))\n",
    "sns.regplot(x='Price_actual',y='Price_pred',data=result,color='#36454F')\n",
    "plt.title('Actual Price  Vs  Predicted Price ',fontsize=20)\n",
    "plt.xlabel('Actual Price',fontsize=15)\n",
    "plt.ylabel('Predicted Price',fontsize=15)\n",
    "\n",
    "plt.show()"
   ]
  },
  {
   "cell_type": "markdown",
   "id": "8716a059",
   "metadata": {},
   "source": [
    "<span style='color:RebeccaPurple'><font size=\"3\"> Conclusions:</span><br></font>\n",
    "<span style='color:DarkCyan'><font size=\"1\">As we can see from above graphs that our model prediction works well with our actual price. </span><br></font>\n",
    "<span style='color:DarkCyan'><font size=\"1.5\">Random Forest regressor have signiificant high score which makes it a best model.</span><br></font>\n",
    "<span style='color:DarkCyan'><font size=\"2\">Random Forest regressor is our final model.</span><br></font>"
   ]
  },
  {
   "cell_type": "code",
   "execution_count": null,
   "id": "ba689f3c",
   "metadata": {},
   "outputs": [],
   "source": []
  }
 ],
 "metadata": {
  "kernelspec": {
   "display_name": "Python 3 (ipykernel)",
   "language": "python",
   "name": "python3"
  },
  "language_info": {
   "codemirror_mode": {
    "name": "ipython",
    "version": 3
   },
   "file_extension": ".py",
   "mimetype": "text/x-python",
   "name": "python",
   "nbconvert_exporter": "python",
   "pygments_lexer": "ipython3",
   "version": "3.9.12"
  }
 },
 "nbformat": 4,
 "nbformat_minor": 5
}
